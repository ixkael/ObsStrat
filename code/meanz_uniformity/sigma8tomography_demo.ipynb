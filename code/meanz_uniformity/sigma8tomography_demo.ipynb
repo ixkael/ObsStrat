{
 "cells": [
  {
   "cell_type": "code",
   "execution_count": 1,
   "metadata": {
    "tags": []
   },
   "outputs": [
    {
     "name": "stdout",
     "output_type": "stream",
     "text": [
      "0.1.dev1809+g4799ba5\n"
     ]
    }
   ],
   "source": [
    "import os\n",
    "import numpy as np\n",
    "import matplotlib.pyplot as plt\n",
    "import healpy as hp\n",
    "import pandas as pd\n",
    "import rubin_sim\n",
    "import rubin_sim.maf as maf\n",
    "#from rubin_sim.data import get_baseline\n",
    "print(rubin_sim.__version__)\n",
    "from os.path import splitext, basename\n",
    "from rubin_scheduler.scheduler.utils import SkyAreaGenerator"
   ]
  },
  {
   "cell_type": "code",
   "execution_count": null,
   "metadata": {
    "tags": []
   },
   "outputs": [],
   "source": []
  },
  {
   "cell_type": "code",
   "execution_count": 2,
   "metadata": {
    "tags": []
   },
   "outputs": [
    {
     "data": {
      "text/plain": [
       "'/pscratch/sd/b/bleis89/rubin_sim_data'"
      ]
     },
     "execution_count": 2,
     "metadata": {},
     "output_type": "execute_result"
    }
   ],
   "source": [
    "# fixing a weird issue\n",
    "import os\n",
    "os.environ['RUBIN_SIM_DATA_DIR'] = '/pscratch/sd/b/bleis89/rubin_sim_data'\n",
    "os.environ['RUBIN_SIM_DATA_DIR'] "
   ]
  },
  {
   "cell_type": "markdown",
   "metadata": {},
   "source": [
    "# Demo of Tomographic Sigma8 bias Metric"
   ]
  },
  {
   "cell_type": "code",
   "execution_count": 3,
   "metadata": {},
   "outputs": [],
   "source": [
    "from rubin_sim.maf.metrics.uniformity_metrics import NestedLinearMultibandModelMetric\n",
    "from rubin_sim.maf.metrics.cosmology_summary_metrics import TomographicClusteringSigma8biasMetric"
   ]
  },
  {
   "cell_type": "code",
   "execution_count": 4,
   "metadata": {
    "tags": []
   },
   "outputs": [],
   "source": [
    "from rubin_sim.maf.metrics.tomography_models import DENSITY_TOMOGRAPHY_MODEL\n",
    "# this contains the current model.\n",
    "# the first set of keys are the years (year1, ..., year10) since this would change typical depth and galaxy catalog cuts.\n",
    "# in what follows we have 5 tomographic bins.\n",
    "# the second nested dictionary has the following:\n",
    "# sigma8square_model is the fiducial sigma8^2 value used in CCL for the theory predictions\n",
    "# poly1d_coefs_loglog is a polynomial (5th degree) describing the angular power spectra (in log log space) in the 5 tomographic bins considered, thus has shape (5, 6)\n",
    "# lmax contains the lmax limits to sum the Cells over when calculating sigma8 for each tomographic bin. thus is it of shape (5, )\n",
    "# dlogN_dm5 contains the derivatives of logN wrt m5 calculated in Qianjun & Jeff's simulations. It is an array of 5 dictionaries (5 = the tomographic bins)\n",
    "# each dictionary must have keys that are the lsst bands. If some are missing they are ignored in the linear model.\n",
    "# they are the ones which will be fed to LinearMultibandModelMetric. Everything else above is going into the modeling \n",
    "# The notebook I used to make this dictionary is https://github.com/ixkael/ObsStrat/blob/meanz_uniformity_maf/code/meanz_uniformity/romanrubinmock_for_sigma8tomography.ipynb"
   ]
  },
  {
   "cell_type": "code",
   "execution_count": 5,
   "metadata": {
    "tags": []
   },
   "outputs": [],
   "source": [
    "# a simple wrapper around the metrics, to store the results, but not critically needed\n",
    "def extract_sigma8_tomography_metric(\n",
    "    opsim_fname, run_fname,\n",
    "    years, \n",
    "    percentage_uncorrected,\n",
    "    density_tomography_model, \n",
    "    lmin = 10,\n",
    "    mag_range_tolerated=1.0,\n",
    "    n_filters = 6, \n",
    "    extinction_cut = 0.2, # sky cuts\n",
    "    nside=32,\n",
    "    convert_to_sigma8=True\n",
    "):\n",
    "    surveyAreas = SkyAreaGenerator(nside=nside)\n",
    "    map_footprints, map_labels = surveyAreas.return_maps()\n",
    "    slicer = maf.HealpixSubsetSlicer(\n",
    "        nside=nside, \n",
    "        hpid=np.where(map_labels == \"lowdust\")[0],#hpid=np.arange(hp.nside2npix(nside)), \n",
    "        use_cache=False)\n",
    "    \n",
    "    # prepare empty arrays to fill in the results\n",
    "    n_bins = 5 # set to 5\n",
    "    results_spuriousdensitypower = np.zeros((len(years), n_bins))\n",
    "    results_sigma8_squared_bias = np.zeros((len(years), ))\n",
    "    # loop over years\n",
    "    all_depth_map_bundles = []\n",
    "    for iy, year in enumerate(years):\n",
    "        print('year', year)\n",
    "        \n",
    "        # constraints\n",
    "        days = year*365.25\n",
    "        constraint_str = 'note not like \"DD%\" and night <= XX and note not like \"twilight_near_sun\" '\n",
    "        constraint_str = constraint_str.replace('XX','%d'%days)\n",
    "    \n",
    "        # leave empty if not specified\n",
    "        mean_depth = {}\n",
    "        min_depth_cut = {} \n",
    "        max_depth_cut = {}\n",
    "       \n",
    "        ##############################\n",
    "        # now converts depth fluctuations to density fluctuations\n",
    "        ##############################\n",
    "        metric = NestedLinearMultibandModelMetric(\n",
    "            density_tomography_model['year'+str(year)]['dlogN_dm5'], \n",
    "            extinction_cut=extinction_cut, n_filters=n_filters, # cuts going into ExgalM5WithCuts\n",
    "            mean_depth=mean_depth, min_depth_cut=min_depth_cut, max_depth_cut=max_depth_cut,\n",
    "        )\n",
    "        # summary metric measures total power via angular power spectra of healpix map (thus needs nside)\n",
    "        # _but_ has a bin-dependent lmax to consider same scales to consider the same scales as a fct of redshift\n",
    "        summary_metrics = [\n",
    "            TomographicClusteringSigma8biasMetric(\n",
    "                density_tomography_model['year'+str(year)], convert_to_sigma8=convert_to_sigma8,\n",
    "                power_multiplier=percentage_uncorrected, lmin=lmin),\n",
    "        ]\n",
    "        # then standard way of packing MetricBundles into a MetricBundleGroup\n",
    "        depth_map_bundles = [maf.MetricBundle(\n",
    "            metric=metric,\n",
    "            slicer=slicer,\n",
    "            constraint=constraint_str,\n",
    "            run_name=run_name,\n",
    "            summary_metrics=summary_metrics\n",
    "        )]\n",
    "        bd = maf.metricBundles.make_bundles_dict_from_list(depth_map_bundles)\n",
    "        bgroup = maf.MetricBundleGroup(bd, opsim_fname)\n",
    "        bgroup.run_all()\n",
    "\n",
    "        # compute bias\n",
    "        # should probably also return fsky\n",
    "        results_sigma8_squared_bias[iy] = depth_map_bundles[0].summary_values['TomographicClusteringSigma8bias']\n",
    "        all_depth_map_bundles.append(depth_map_bundles[0])\n",
    "\n",
    "    return results_sigma8_squared_bias, all_depth_map_bundles"
   ]
  },
  {
   "cell_type": "code",
   "execution_count": 18,
   "metadata": {
    "tags": []
   },
   "outputs": [
    {
     "name": "stdout",
     "output_type": "stream",
     "text": [
      "run_name: baseline_v3.3_10yrs\n",
      "Healpix slicer using NSIDE=64, approximate resolution 54.967783 arcminutes\n",
      "year 1\n"
     ]
    },
    {
     "name": "stderr",
     "output_type": "stream",
     "text": [
      "/pscratch/sd/b/bleis89/rubin_sim/rubin_sim/maf/maps/dust_map.py:46: UserWarning: Slicer value of nside 64 different from map value 128, using slicer value\n",
      "  warnings.warn(\n",
      "/pscratch/sd/b/bleis89/rubin_sim/rubin_sim/maf/metrics/cosmology_summary_metrics.py:73: HealpyDeprecationWarning: \"verbose\" was deprecated in version 1.15.0 and will be removed in a future version. \n",
      "  data = hp.remove_monopole(data, verbose=False, bad=self.mask_val)\n",
      "/pscratch/sd/b/bleis89/rubin_sim/rubin_sim/maf/metrics/cosmology_summary_metrics.py:75: HealpyDeprecationWarning: \"verbose\" was deprecated in version 1.15.0 and will be removed in a future version. \n",
      "  data = hp.remove_dipole(data, verbose=False, bad=self.mask_val)\n"
     ]
    },
    {
     "name": "stdout",
     "output_type": "stream",
     "text": [
      "spuriousdensitypowers: [0.00521755 0.00580936 0.00370122 0.00089906 0.01586169]\n",
      "fskys: [0.40411989 0.40411989 0.40411989 0.40411989 0.40411989]\n",
      "0.6400000000000001 0.6609082405544311 0.005453452951197288 3.8339453446353895\n",
      "0.8 0.8129626317085128 0.003354061268312157 3.864756983117322\n",
      "year 2\n",
      "spuriousdensitypowers: [0.00912515 0.00781437 0.00335835 0.00228633 0.00098489]\n",
      "fskys: [0.40415986 0.40415986 0.40415986 0.40415986 0.40415986]\n",
      "0.6400000000000001 0.6448486876178978 0.005413417437544279 0.8956796097544687\n",
      "0.8 0.8030247117106035 0.003370641873531274 0.8973696477088562\n",
      "year 3\n",
      "spuriousdensitypowers: [0.00917506 0.01071229 0.00408706 0.00191809 0.00052159]\n",
      "fskys: [0.40415986 0.40415986 0.40415986 0.40415986 0.40415986]\n",
      "0.6400000000000001 0.6445264021104912 0.005392792880939481 0.8393428433881368\n",
      "0.8 0.8028240168994019 0.003358639482266028 0.8408216822058229\n",
      "year 4\n",
      "spuriousdensitypowers: [0.00425651 0.00549936 0.00277974 0.00135173 0.00088745]\n",
      "fskys: [0.40415986 0.40415986 0.40415986 0.40415986 0.40415986]\n",
      "0.6400000000000001 0.6432510316332513 0.005373997667820726 0.6049559069811614\n",
      "0.8 0.8020293209311311 0.0033502501265051518 0.6057222161044941\n",
      "year 5\n",
      "spuriousdensitypowers: [0.00471496 0.00766766 0.00251297 0.00154565 0.00145114]\n",
      "fskys: [0.40415986 0.40415986 0.40415986 0.40415986 0.40415986]\n",
      "0.6400000000000001 0.6440485424024502 0.005365226082378959 0.7545893388811268\n",
      "0.8 0.8025263499739123 0.0033427102316038394 0.7557789335212775\n",
      "year 6\n",
      "spuriousdensitypowers: [0.00322787 0.00484721 0.00203112 0.00127774 0.00128261]\n",
      "fskys: [0.40415986 0.40415986 0.40415986 0.40415986 0.40415986]\n",
      "0.6400000000000001 0.6431619234632598 0.005378806347953882 0.5878485408686496\n",
      "0.8 0.801973767316151 0.0033534802303785763 0.5885728200425784\n",
      "year 7\n",
      "spuriousdensitypowers: [0.00395853 0.00569258 0.00316471 0.00100859 0.00170027]\n",
      "fskys: [0.40415986 0.40415986 0.40415986 0.40415986 0.40415986]\n",
      "0.6400000000000001 0.6438152001902047 0.005358097025898052 0.7120438789674745\n",
      "0.8 0.8023809570211675 0.0033388734983130345 0.7131018957053784\n",
      "year 8\n",
      "spuriousdensitypowers: [0.00278081 0.0055286  0.00236266 0.00071503 0.00097605]\n",
      "fskys: [0.40415986 0.40415986 0.40415986 0.40415986 0.40415986]\n",
      "0.6400000000000001 0.6426460873037106 0.0053571332017877645 0.49393718693189803\n",
      "0.8 0.8016520986710574 0.0033413080379060805 0.4944466814537229\n",
      "year 9\n",
      "spuriousdensitypowers: [0.00309488 0.00540838 0.00294812 0.00089421 0.00138541]\n",
      "fskys: [0.40415986 0.40415986 0.40415986 0.40415986 0.40415986]\n",
      "0.6400000000000001 0.6432568135820423 0.0053559232541604464 0.608076969645214\n",
      "0.8 0.8020329254974775 0.0033389671944193088 0.6088485987149748\n",
      "year 10\n",
      "spuriousdensitypowers: [0.0031811  0.00420556 0.00245312 0.00068144 0.00090844]\n",
      "fskys: [0.40415986 0.40415986 0.40415986 0.40415986 0.40415986]\n",
      "0.6400000000000001 0.642403370127715 0.00534966111623347 0.4492565184029811\n",
      "0.8 0.8015006987693242 0.0033372778866242315 0.4496774977411707\n",
      "run_name: noroll_v3.3_10yrs\n",
      "Healpix slicer using NSIDE=64, approximate resolution 54.967783 arcminutes\n",
      "year 1\n"
     ]
    },
    {
     "name": "stderr",
     "output_type": "stream",
     "text": [
      "/pscratch/sd/b/bleis89/rubin_sim/rubin_sim/maf/maps/dust_map.py:46: UserWarning: Slicer value of nside 64 different from map value 128, using slicer value\n",
      "  warnings.warn(\n",
      "/pscratch/sd/b/bleis89/rubin_sim/rubin_sim/maf/metrics/cosmology_summary_metrics.py:73: HealpyDeprecationWarning: \"verbose\" was deprecated in version 1.15.0 and will be removed in a future version. \n",
      "  data = hp.remove_monopole(data, verbose=False, bad=self.mask_val)\n",
      "/pscratch/sd/b/bleis89/rubin_sim/rubin_sim/maf/metrics/cosmology_summary_metrics.py:75: HealpyDeprecationWarning: \"verbose\" was deprecated in version 1.15.0 and will be removed in a future version. \n",
      "  data = hp.remove_dipole(data, verbose=False, bad=self.mask_val)\n"
     ]
    },
    {
     "name": "stdout",
     "output_type": "stream",
     "text": [
      "spuriousdensitypowers: [0.00521755 0.00580936 0.00370122 0.00089906 0.01586169]\n",
      "fskys: [0.40411989 0.40411989 0.40411989 0.40411989 0.40411989]\n",
      "0.6400000000000001 0.6609082405544311 0.005453452951197288 3.8339453446353895\n",
      "0.8 0.8129626317085128 0.003354061268312157 3.864756983117322\n",
      "year 2\n",
      "spuriousdensitypowers: [0.00482891 0.00450709 0.00220973 0.00148191 0.00081641]\n",
      "fskys: [0.40415986 0.40415986 0.40415986 0.40415986 0.40415986]\n",
      "0.6400000000000001 0.6432231406754767 0.005413417437544279 0.59539850984385\n",
      "0.8 0.8020119330006734 0.0033748983118557494 0.5961462582755785\n",
      "year 3\n",
      "spuriousdensitypowers: [0.00353534 0.00477658 0.00201297 0.00098432 0.00029985]\n",
      "fskys: [0.40415986 0.40415986 0.40415986 0.40415986 0.40415986]\n",
      "0.6400000000000001 0.6421918433233079 0.005392792880939481 0.40643936670639463\n",
      "0.8 0.8013687311864045 0.0033647387719730453 0.40678676092344923\n",
      "year 4\n",
      "spuriousdensitypowers: [0.00337051 0.00447124 0.00234559 0.00116068 0.00079656]\n",
      "fskys: [0.40415986 0.40415986 0.40415986 0.40415986 0.40415986]\n",
      "0.6400000000000001 0.6427735707198122 0.005373997667820726 0.5161094014647843\n",
      "0.8 0.8017316076592043 0.003351494201102444 0.5166673594824118\n",
      "year 5\n",
      "spuriousdensitypowers: [0.00301229 0.00520163 0.00175518 0.00115661 0.00108903]\n",
      "fskys: [0.40415986 0.40415986 0.40415986 0.40415986 0.40415986]\n",
      "0.6400000000000001 0.642913531922155 0.005365226082378959 0.5430399161973342\n",
      "0.8 0.8018188897264488 0.003345659569213553 0.5436565462864118\n",
      "year 6\n",
      "spuriousdensitypowers: [0.00286451 0.00444485 0.00188039 0.00123556 0.00122539]\n",
      "fskys: [0.40415986 0.40415986 0.40415986 0.40415986 0.40415986]\n",
      "0.6400000000000001 0.6429815780139905 0.005378806347953882 0.5543196428933629\n",
      "0.8 0.8018613209364762 0.0033539504946267346 0.554963747812659\n",
      "year 7\n",
      "spuriousdensitypowers: [0.00294911 0.00445877 0.00255618 0.0008592  0.00149181]\n",
      "fskys: [0.40415986 0.40415986 0.40415986 0.40415986 0.40415986]\n",
      "0.6400000000000001 0.6431941541598718 0.005358097025898052 0.596135931177229\n",
      "0.8 0.80199386167219 0.003340485059777266 0.5968778894412721\n",
      "year 8\n",
      "spuriousdensitypowers: [0.00257753 0.00526649 0.00225978 0.00072157 0.00095982]\n",
      "fskys: [0.40415986 0.40415986 0.40415986 0.40415986 0.40415986]\n",
      "0.6400000000000001 0.6425691515791564 0.0053571332017877645 0.47957582579781693\n",
      "0.8 0.8016041115034006 0.0033415080617167203 0.48005615242371746\n",
      "year 9\n",
      "spuriousdensitypowers: [0.00256319 0.00461882 0.00258987 0.00081217 0.00127429]\n",
      "fskys: [0.40415986 0.40415986 0.40415986 0.40415986 0.40415986]\n",
      "0.6400000000000001 0.6429084579322805 0.0053559232541604464 0.54303577446168\n",
      "0.8 0.8018157256703565 0.0033398716704406343 0.5436513284107504\n",
      "year 10\n",
      "spuriousdensitypowers: [0.00325887 0.00432583 0.00253845 0.00071428 0.00095107]\n",
      "fskys: [0.40415986 0.40415986 0.40415986 0.40415986 0.40415986]\n",
      "0.6400000000000001 0.6424976058001945 0.00534966111623347 0.46687177859088597\n",
      "0.8 0.8015594836318728 0.003337033136950804 0.46732638480711003\n",
      "run_name: roll_uniform_mjdp0_v3.4_10yrs\n",
      "Healpix slicer using NSIDE=64, approximate resolution 54.967783 arcminutes\n",
      "year 1\n"
     ]
    },
    {
     "name": "stderr",
     "output_type": "stream",
     "text": [
      "/pscratch/sd/b/bleis89/rubin_sim/rubin_sim/maf/maps/dust_map.py:46: UserWarning: Slicer value of nside 64 different from map value 128, using slicer value\n",
      "  warnings.warn(\n",
      "/pscratch/sd/b/bleis89/rubin_sim/rubin_sim/maf/metrics/cosmology_summary_metrics.py:73: HealpyDeprecationWarning: \"verbose\" was deprecated in version 1.15.0 and will be removed in a future version. \n",
      "  data = hp.remove_monopole(data, verbose=False, bad=self.mask_val)\n",
      "/pscratch/sd/b/bleis89/rubin_sim/rubin_sim/maf/metrics/cosmology_summary_metrics.py:75: HealpyDeprecationWarning: \"verbose\" was deprecated in version 1.15.0 and will be removed in a future version. \n",
      "  data = hp.remove_dipole(data, verbose=False, bad=self.mask_val)\n"
     ]
    },
    {
     "name": "stdout",
     "output_type": "stream",
     "text": [
      "spuriousdensitypowers: [0.00516747 0.00556765 0.00356926 0.00091736 0.01548066]\n",
      "fskys: [0.40413987 0.40413987 0.40413987 0.40413987 0.40413987]\n",
      "0.6400000000000001 0.6604052064303236 0.005453318123261024 3.741796456598688\n",
      "0.8 0.8126531895158744 0.003355255472823379 3.7711553168936347\n",
      "year 2\n",
      "spuriousdensitypowers: [0.00818037 0.00710176 0.00318123 0.00229796 0.00091606]\n",
      "fskys: [0.40415986 0.40415986 0.40415986 0.40415986 0.40415986]\n",
      "0.6400000000000001 0.644592579639708 0.005413417437544279 0.8483697576795753\n",
      "0.8 0.8028652313057951 0.003371311414706422 0.8498862766863641\n",
      "year 3\n",
      "spuriousdensitypowers: [0.00824913 0.00961643 0.0037876  0.00186487 0.00047074]\n",
      "fskys: [0.40415986 0.40415986 0.40415986 0.40415986 0.40415986]\n",
      "0.6400000000000001 0.64418027642769 0.005392792880939481 0.7751598327584341\n",
      "0.8 0.8026084203568326 0.0033595416794542803 0.7764214901052267\n",
      "year 4\n",
      "spuriousdensitypowers: [0.00354653 0.00456203 0.00241542 0.00118064 0.00081401]\n",
      "fskys: [0.40415986 0.40415986 0.40415986 0.40415986 0.40415986]\n",
      "0.6400000000000001 0.6428398951207889 0.005373997667820726 0.5284511263921685\n",
      "0.8 0.8017729698117722 0.0033513213030132148 0.5290360581595109\n",
      "year 5\n",
      "spuriousdensitypowers: [0.00446032 0.00709331 0.00233    0.00141863 0.00136733]\n",
      "fskys: [0.40415986 0.40415986 0.40415986 0.40415986 0.40415986]\n",
      "0.6400000000000001 0.6437698695505512 0.005365226082378959 0.7026487780137417\n",
      "0.8 0.8023527089444835 0.003343433643688358 0.7036804660157834\n",
      "year 6\n",
      "spuriousdensitypowers: [0.00350569 0.00506558 0.00211325 0.00128853 0.00132073]\n",
      "fskys: [0.40415986 0.40415986 0.40415986 0.40415986 0.40415986]\n",
      "0.6400000000000001 0.6432639780412555 0.005378806347953882 0.6068220028960446\n",
      "0.8 0.802037391922132 0.0033532142030580658 0.6075937291073932\n",
      "year 7\n",
      "spuriousdensitypowers: [0.00296948 0.00438138 0.00248825 0.00081519 0.0014286 ]\n",
      "fskys: [0.40415986 0.40415986 0.40415986 0.40415986 0.40415986]\n",
      "0.6400000000000001 0.6430841928239064 0.005358097025898052 0.5756134704166413\n",
      "0.8 0.8019253037683163 0.0033407706433004987 0.5763052821890635\n",
      "year 8\n",
      "spuriousdensitypowers: [0.00280648 0.00551514 0.00236878 0.00071212 0.00098384]\n",
      "fskys: [0.40415986 0.40415986 0.40415986 0.40415986 0.40415986]\n",
      "0.6400000000000001 0.642653291433824 0.0053571332017877645 0.4952819603101189\n",
      "0.8 0.8016565919605626 0.003341289309856575 0.49579422999251394\n",
      "year 9\n",
      "spuriousdensitypowers: [0.00251312 0.00446494 0.00248295 0.00077587 0.00120742]\n",
      "fskys: [0.40415986 0.40415986 0.40415986 0.40415986 0.40415986]\n",
      "0.6400000000000001 0.6427795285270315 0.0053559232541604464 0.5189634718668193\n",
      "0.8 0.8017353232376826 0.003340206611161517 0.5195257179253092\n",
      "year 10\n",
      "spuriousdensitypowers: [0.0032077  0.00418219 0.0024471  0.00068456 0.00089876]\n",
      "fskys: [0.40415986 0.40415986 0.40415986 0.40415986 0.40415986]\n",
      "0.6400000000000001 0.6423926102328209 0.00534966111623347 0.4472451956929455\n",
      "0.8 0.801493986398414 0.0033373058357384936 0.4476624175150911\n",
      "run_name: baseline_v3.4_10yrs\n",
      "Healpix slicer using NSIDE=64, approximate resolution 54.967783 arcminutes\n",
      "year 1\n"
     ]
    },
    {
     "name": "stderr",
     "output_type": "stream",
     "text": [
      "/pscratch/sd/b/bleis89/rubin_sim/rubin_sim/maf/maps/dust_map.py:46: UserWarning: Slicer value of nside 64 different from map value 128, using slicer value\n",
      "  warnings.warn(\n",
      "/pscratch/sd/b/bleis89/rubin_sim/rubin_sim/maf/metrics/cosmology_summary_metrics.py:73: HealpyDeprecationWarning: \"verbose\" was deprecated in version 1.15.0 and will be removed in a future version. \n",
      "  data = hp.remove_monopole(data, verbose=False, bad=self.mask_val)\n",
      "/pscratch/sd/b/bleis89/rubin_sim/rubin_sim/maf/metrics/cosmology_summary_metrics.py:75: HealpyDeprecationWarning: \"verbose\" was deprecated in version 1.15.0 and will be removed in a future version. \n",
      "  data = hp.remove_dipole(data, verbose=False, bad=self.mask_val)\n"
     ]
    },
    {
     "name": "stdout",
     "output_type": "stream",
     "text": [
      "spuriousdensitypowers: [0.00522663 0.00577766 0.00362816 0.0008688  0.01589299]\n",
      "fskys: [0.40415986 0.40415986 0.40415986 0.40415986 0.40415986]\n",
      "0.6400000000000001 0.660896213597053 0.005453183305324483 3.8319294304025697\n",
      "0.8 0.8129552346821152 0.003353925943694063 3.862707435885135\n",
      "year 2\n",
      "spuriousdensitypowers: [0.0089783  0.00772068 0.00338545 0.00243289 0.00095951]\n",
      "fskys: [0.40415986 0.40415986 0.40415986 0.40415986 0.40415986]\n",
      "0.6400000000000001 0.6448968538743335 0.005413417437544279 0.9045771789870969\n",
      "0.8 0.8030547016700254 0.0033705159974075144 0.906300896472492\n",
      "year 3\n",
      "spuriousdensitypowers: [0.00935387 0.01084835 0.00422019 0.00199774 0.00050847]\n",
      "fskys: [0.40415986 0.40415986 0.40415986 0.40415986 0.40415986]\n",
      "0.6400000000000001 0.644620435276999 0.005392792880939481 0.85677966482442\n",
      "0.8 0.8028825787604306 0.003358394504751496 0.8583204731761603\n",
      "year 4\n",
      "spuriousdensitypowers: [0.00427009 0.00546947 0.0027996  0.00139879 0.00092722]\n",
      "fskys: [0.40415986 0.40415986 0.40415986 0.40415986 0.40415986]\n",
      "0.6400000000000001 0.6433196064821244 0.005373997667820726 0.6177163979809528\n",
      "0.8 0.802072070628397 0.003350071561281504 0.6185153333274924\n",
      "year 5\n",
      "spuriousdensitypowers: [0.00473272 0.00764542 0.00252499 0.00155752 0.00144305]\n",
      "fskys: [0.40415986 0.40415986 0.40415986 0.40415986 0.40415986]\n",
      "0.6400000000000001 0.6440479299304601 0.005365226082378959 0.7544751830225068\n",
      "0.8 0.8025259683838649 0.0033427118210165255 0.7556644183274889\n",
      "year 6\n",
      "spuriousdensitypowers: [0.00332964 0.00492084 0.00210555 0.0013385  0.00132151]\n",
      "fskys: [0.40415986 0.40415986 0.40415986 0.40415986 0.40415986]\n",
      "0.6400000000000001 0.6432640788162756 0.005378806347953882 0.606840738469253\n",
      "0.8 0.8020374547465197 0.003353213940397478 0.6076125122747478\n",
      "year 7\n",
      "spuriousdensitypowers: [0.00402933 0.00573869 0.00322027 0.00104798 0.0017234 ]\n",
      "fskys: [0.40415986 0.40415986 0.40415986 0.40415986 0.40415986]\n",
      "0.6400000000000001 0.6438803883146879 0.005358097025898052 0.724210161916087\n",
      "0.8 0.8024215776726644 0.003338704475918147 0.7253045874922609\n",
      "year 8\n",
      "spuriousdensitypowers: [0.00285627 0.00563964 0.00243857 0.00075541 0.00100744]\n",
      "fskys: [0.40415986 0.40415986 0.40415986 0.40415986 0.40415986]\n",
      "0.6400000000000001 0.6427316374808789 0.0053571332017877645 0.5099065821188089\n",
      "0.8 0.8017054555638741 0.0033410856597076923 0.5104495177843581\n",
      "year 9\n",
      "spuriousdensitypowers: [0.00317953 0.00552783 0.00302585 0.00093177 0.00140575]\n",
      "fskys: [0.40415986 0.40415986 0.40415986 0.40415986 0.40415986]\n",
      "0.6400000000000001 0.6433314465448661 0.0053559232541604464 0.6220116283925652\n",
      "0.8 0.8020794515164106 0.0033387735117977047 0.6228189810008679\n",
      "year 10\n",
      "spuriousdensitypowers: [0.0033318  0.0043634  0.00255134 0.00071267 0.00093131]\n",
      "fskys: [0.40415986 0.40415986 0.40415986 0.40415986 0.40415986]\n",
      "0.6400000000000001 0.6424884704840906 0.00534966111623347 0.4651641347036511\n",
      "0.8 0.801553785147379 0.0033370568609128615 0.4656154246511323\n"
     ]
    }
   ],
   "source": [
    "sim_list = [\n",
    "   '/pscratch/sd/r/rhlozek/rubin_sim_data/sim_baseline/baseline_v3.3_10yrs.db',\n",
    "   '/pscratch/sd/r/rhlozek/rubin_sim_data/noroll/noroll_v3.3_10yrs.db',\n",
    "   '/pscratch/sd/b/beckermr/v3.4_sims_rubin/roll_uniform_mjdp0_v3.4_10yrs.db',\n",
    "   '/pscratch/sd/b/beckermr/v3.4_sims_rubin/baseline_v3.4_10yrs.db'\n",
    "]\n",
    "name_list = [splitext(basename(sim))[0] for sim in sim_list]\n",
    "\n",
    "years = range(1, 11)  # [1, 2, 4, 7, 10]#\n",
    "percentage_uncorrected = 0.1\n",
    "\n",
    "# large mag_range_tolerated and no min depth in order to make comparison fair between strategies etc\n",
    "results_fsky = {}\n",
    "results_sigma8_squared_bias = {}\n",
    "for opsim_fname, run_name in zip(sim_list, name_list):\n",
    "    \n",
    "    print('run_name:', run_name)\n",
    "    results_sigma8_squared_bias[run_name], _ = extract_sigma8_tomography_metric(\n",
    "        opsim_fname, run_name,\n",
    "        years, \n",
    "        percentage_uncorrected,\n",
    "        DENSITY_TOMOGRAPHY_MODEL,\n",
    "        nside=64,\n",
    "        lmin=10, n_filters=6, extinction_cut=0.2, mag_range_tolerated=2.0,\n",
    "        convert_to_sigma8=True\n",
    "    )\n",
    "    \n",
    "    "
   ]
  },
  {
   "cell_type": "code",
   "execution_count": 19,
   "metadata": {},
   "outputs": [
    {
     "data": {
      "text/plain": [
       "Text(0, 0.5, 'Top panel minus baseline_v3.3_10yrs')"
      ]
     },
     "execution_count": 19,
     "metadata": {},
     "output_type": "execute_result"
    },
    {
     "data": {
      "image/png": "[encoded data removed]",
      "text/plain": [
       "<Figure size 700x700 with 2 Axes>"
      ]
     },
     "metadata": {},
     "output_type": "display_data"
    }
   ],
   "source": [
    "fig, axs = plt.subplots(2, 1, figsize=(7, 7), sharex=True)\n",
    "\n",
    "colors = ['orange', 'blue', 'black', 'red']\n",
    "for i, run_name in enumerate(results_sigma8_squared_bias.keys()):\n",
    "    axs[0].plot(years, results_sigma8_squared_bias[run_name], label=run_name, marker='o', color=colors[i])\n",
    "axs[0].legend()\n",
    "\n",
    "results_sigma8_squared_bias.keys()\n",
    "axs[1].set_xlabel('Years')\n",
    "axs[0].set_ylabel('Bias in sigma8 in units of sigmas')\n",
    "\n",
    "run_name_ = list(results_sigma8_squared_bias.keys())[0]\n",
    "for i, run_name in enumerate(results_sigma8_squared_bias.keys()):\n",
    "    axs[1].plot(years, np.array(years)*0, ls='--', c='orange')\n",
    "    if run_name != run_name_:\n",
    "        axs[1].plot(years, results_sigma8_squared_bias[run_name]-results_sigma8_squared_bias[run_name_], label=run_name, marker='o', color=colors[i])\n",
    "axs[1].set_ylabel('Top panel minus '+run_name_)"
   ]
  },
  {
   "cell_type": "code",
   "execution_count": null,
   "metadata": {
    "tags": []
   },
   "outputs": [],
   "source": [
    "%rm /global/homes/b/bleis89/ObsStrat/code/meanz_uniformity/*.npz"
   ]
  },
  {
   "cell_type": "code",
   "execution_count": null,
   "metadata": {
    "tags": []
   },
   "outputs": [],
   "source": [
    "stop"
   ]
  },
  {
   "cell_type": "markdown",
   "metadata": {},
   "source": [
    "# Demo of AreaAtRisk metric"
   ]
  },
  {
   "cell_type": "code",
   "execution_count": 16,
   "metadata": {},
   "outputs": [
    {
     "name": "stdout",
     "output_type": "stream",
     "text": [
      "Healpix slicer using NSIDE=64, approximate resolution 54.967783 arcminutes\n",
      "year 1\n"
     ]
    },
    {
     "name": "stderr",
     "output_type": "stream",
     "text": [
      "/pscratch/sd/b/bleis89/rubin_sim/rubin_sim/maf/maps/dust_map.py:46: UserWarning: Slicer value of nside 64 different from map value 128, using slicer value\n",
      "  warnings.warn(\n"
     ]
    },
    {
     "name": "stdout",
     "output_type": "stream",
     "text": [
      "year 2\n"
     ]
    },
    {
     "name": "stderr",
     "output_type": "stream",
     "text": [
      "/pscratch/sd/b/bleis89/my-desc-stack-weekly/lib/python3.11/site-packages/sklearn/base.py:464: UserWarning: X does not have valid feature names, but StandardScaler was fitted with feature names\n",
      "  warnings.warn(\n",
      "/pscratch/sd/b/bleis89/my-desc-stack-weekly/lib/python3.11/site-packages/sklearn/base.py:464: UserWarning: X does not have valid feature names, but StandardScaler was fitted with feature names\n",
      "  warnings.warn(\n",
      "/pscratch/sd/b/bleis89/my-desc-stack-weekly/lib/python3.11/site-packages/sklearn/base.py:464: UserWarning: X does not have valid feature names, but StandardScaler was fitted with feature names\n",
      "  warnings.warn(\n"
     ]
    },
    {
     "name": "stdout",
     "output_type": "stream",
     "text": [
      "year 3\n"
     ]
    },
    {
     "name": "stderr",
     "output_type": "stream",
     "text": [
      "/pscratch/sd/b/bleis89/rubin_sim/rubin_sim/maf/maps/dust_map.py:46: UserWarning: Slicer value of nside 64 different from map value 128, using slicer value\n",
      "  warnings.warn(\n",
      "/pscratch/sd/b/bleis89/my-desc-stack-weekly/lib/python3.11/site-packages/sklearn/base.py:464: UserWarning: X does not have valid feature names, but StandardScaler was fitted with feature names\n",
      "  warnings.warn(\n",
      "/pscratch/sd/b/bleis89/my-desc-stack-weekly/lib/python3.11/site-packages/sklearn/base.py:464: UserWarning: X does not have valid feature names, but StandardScaler was fitted with feature names\n",
      "  warnings.warn(\n",
      "/pscratch/sd/b/bleis89/my-desc-stack-weekly/lib/python3.11/site-packages/sklearn/base.py:464: UserWarning: X does not have valid feature names, but StandardScaler was fitted with feature names\n",
      "  warnings.warn(\n"
     ]
    },
    {
     "name": "stdout",
     "output_type": "stream",
     "text": [
      "year 4\n"
     ]
    },
    {
     "name": "stderr",
     "output_type": "stream",
     "text": [
      "/pscratch/sd/b/bleis89/rubin_sim/rubin_sim/maf/maps/dust_map.py:46: UserWarning: Slicer value of nside 64 different from map value 128, using slicer value\n",
      "  warnings.warn(\n",
      "/pscratch/sd/b/bleis89/my-desc-stack-weekly/lib/python3.11/site-packages/sklearn/base.py:464: UserWarning: X does not have valid feature names, but StandardScaler was fitted with feature names\n",
      "  warnings.warn(\n",
      "/pscratch/sd/b/bleis89/my-desc-stack-weekly/lib/python3.11/site-packages/sklearn/base.py:464: UserWarning: X does not have valid feature names, but StandardScaler was fitted with feature names\n",
      "  warnings.warn(\n",
      "/pscratch/sd/b/bleis89/my-desc-stack-weekly/lib/python3.11/site-packages/sklearn/base.py:464: UserWarning: X does not have valid feature names, but StandardScaler was fitted with feature names\n",
      "  warnings.warn(\n"
     ]
    },
    {
     "name": "stdout",
     "output_type": "stream",
     "text": [
      "year 5\n"
     ]
    },
    {
     "name": "stderr",
     "output_type": "stream",
     "text": [
      "/pscratch/sd/b/bleis89/rubin_sim/rubin_sim/maf/maps/dust_map.py:46: UserWarning: Slicer value of nside 64 different from map value 128, using slicer value\n",
      "  warnings.warn(\n",
      "/pscratch/sd/b/bleis89/my-desc-stack-weekly/lib/python3.11/site-packages/sklearn/base.py:464: UserWarning: X does not have valid feature names, but StandardScaler was fitted with feature names\n",
      "  warnings.warn(\n",
      "/pscratch/sd/b/bleis89/my-desc-stack-weekly/lib/python3.11/site-packages/sklearn/base.py:464: UserWarning: X does not have valid feature names, but StandardScaler was fitted with feature names\n",
      "  warnings.warn(\n",
      "/pscratch/sd/b/bleis89/my-desc-stack-weekly/lib/python3.11/site-packages/sklearn/base.py:464: UserWarning: X does not have valid feature names, but StandardScaler was fitted with feature names\n",
      "  warnings.warn(\n"
     ]
    },
    {
     "name": "stdout",
     "output_type": "stream",
     "text": [
      "year 6\n"
     ]
    },
    {
     "name": "stderr",
     "output_type": "stream",
     "text": [
      "/pscratch/sd/b/bleis89/rubin_sim/rubin_sim/maf/maps/dust_map.py:46: UserWarning: Slicer value of nside 64 different from map value 128, using slicer value\n",
      "  warnings.warn(\n",
      "/pscratch/sd/b/bleis89/my-desc-stack-weekly/lib/python3.11/site-packages/sklearn/base.py:464: UserWarning: X does not have valid feature names, but StandardScaler was fitted with feature names\n",
      "  warnings.warn(\n",
      "/pscratch/sd/b/bleis89/my-desc-stack-weekly/lib/python3.11/site-packages/sklearn/base.py:464: UserWarning: X does not have valid feature names, but StandardScaler was fitted with feature names\n",
      "  warnings.warn(\n",
      "/pscratch/sd/b/bleis89/my-desc-stack-weekly/lib/python3.11/site-packages/sklearn/base.py:464: UserWarning: X does not have valid feature names, but StandardScaler was fitted with feature names\n",
      "  warnings.warn(\n"
     ]
    },
    {
     "name": "stdout",
     "output_type": "stream",
     "text": [
      "year 7\n"
     ]
    },
    {
     "name": "stderr",
     "output_type": "stream",
     "text": [
      "/pscratch/sd/b/bleis89/rubin_sim/rubin_sim/maf/maps/dust_map.py:46: UserWarning: Slicer value of nside 64 different from map value 128, using slicer value\n",
      "  warnings.warn(\n",
      "/pscratch/sd/b/bleis89/my-desc-stack-weekly/lib/python3.11/site-packages/sklearn/base.py:464: UserWarning: X does not have valid feature names, but StandardScaler was fitted with feature names\n",
      "  warnings.warn(\n",
      "/pscratch/sd/b/bleis89/my-desc-stack-weekly/lib/python3.11/site-packages/sklearn/base.py:464: UserWarning: X does not have valid feature names, but StandardScaler was fitted with feature names\n",
      "  warnings.warn(\n",
      "/pscratch/sd/b/bleis89/my-desc-stack-weekly/lib/python3.11/site-packages/sklearn/base.py:464: UserWarning: X does not have valid feature names, but StandardScaler was fitted with feature names\n",
      "  warnings.warn(\n"
     ]
    },
    {
     "name": "stdout",
     "output_type": "stream",
     "text": [
      "year 8\n"
     ]
    },
    {
     "name": "stderr",
     "output_type": "stream",
     "text": [
      "/pscratch/sd/b/bleis89/rubin_sim/rubin_sim/maf/maps/dust_map.py:46: UserWarning: Slicer value of nside 64 different from map value 128, using slicer value\n",
      "  warnings.warn(\n",
      "/pscratch/sd/b/bleis89/my-desc-stack-weekly/lib/python3.11/site-packages/sklearn/base.py:464: UserWarning: X does not have valid feature names, but StandardScaler was fitted with feature names\n",
      "  warnings.warn(\n",
      "/pscratch/sd/b/bleis89/my-desc-stack-weekly/lib/python3.11/site-packages/sklearn/base.py:464: UserWarning: X does not have valid feature names, but StandardScaler was fitted with feature names\n",
      "  warnings.warn(\n",
      "/pscratch/sd/b/bleis89/my-desc-stack-weekly/lib/python3.11/site-packages/sklearn/base.py:464: UserWarning: X does not have valid feature names, but StandardScaler was fitted with feature names\n",
      "  warnings.warn(\n"
     ]
    },
    {
     "name": "stdout",
     "output_type": "stream",
     "text": [
      "year 9\n"
     ]
    },
    {
     "name": "stderr",
     "output_type": "stream",
     "text": [
      "/pscratch/sd/b/bleis89/rubin_sim/rubin_sim/maf/maps/dust_map.py:46: UserWarning: Slicer value of nside 64 different from map value 128, using slicer value\n",
      "  warnings.warn(\n",
      "/pscratch/sd/b/bleis89/my-desc-stack-weekly/lib/python3.11/site-packages/sklearn/base.py:464: UserWarning: X does not have valid feature names, but StandardScaler was fitted with feature names\n",
      "  warnings.warn(\n",
      "/pscratch/sd/b/bleis89/my-desc-stack-weekly/lib/python3.11/site-packages/sklearn/base.py:464: UserWarning: X does not have valid feature names, but StandardScaler was fitted with feature names\n",
      "  warnings.warn(\n",
      "/pscratch/sd/b/bleis89/my-desc-stack-weekly/lib/python3.11/site-packages/sklearn/base.py:464: UserWarning: X does not have valid feature names, but StandardScaler was fitted with feature names\n",
      "  warnings.warn(\n"
     ]
    },
    {
     "name": "stdout",
     "output_type": "stream",
     "text": [
      "year 10\n"
     ]
    },
    {
     "name": "stderr",
     "output_type": "stream",
     "text": [
      "/pscratch/sd/b/bleis89/rubin_sim/rubin_sim/maf/maps/dust_map.py:46: UserWarning: Slicer value of nside 64 different from map value 128, using slicer value\n",
      "  warnings.warn(\n",
      "/pscratch/sd/b/bleis89/my-desc-stack-weekly/lib/python3.11/site-packages/sklearn/base.py:464: UserWarning: X does not have valid feature names, but StandardScaler was fitted with feature names\n",
      "  warnings.warn(\n",
      "/pscratch/sd/b/bleis89/my-desc-stack-weekly/lib/python3.11/site-packages/sklearn/base.py:464: UserWarning: X does not have valid feature names, but StandardScaler was fitted with feature names\n",
      "  warnings.warn(\n",
      "/pscratch/sd/b/bleis89/my-desc-stack-weekly/lib/python3.11/site-packages/sklearn/base.py:464: UserWarning: X does not have valid feature names, but StandardScaler was fitted with feature names\n",
      "  warnings.warn(\n"
     ]
    },
    {
     "name": "stdout",
     "output_type": "stream",
     "text": [
      "year 1\n"
     ]
    },
    {
     "name": "stderr",
     "output_type": "stream",
     "text": [
      "/pscratch/sd/b/bleis89/rubin_sim/rubin_sim/maf/maps/dust_map.py:46: UserWarning: Slicer value of nside 64 different from map value 128, using slicer value\n",
      "  warnings.warn(\n"
     ]
    },
    {
     "name": "stdout",
     "output_type": "stream",
     "text": [
      "year 2\n",
      "year 3\n",
      "year 4\n",
      "year 5\n",
      "year 6\n",
      "year 7\n"
     ]
    },
    {
     "name": "stderr",
     "output_type": "stream",
     "text": [
      "/pscratch/sd/b/bleis89/my-desc-stack-weekly/lib/python3.11/site-packages/sklearn/base.py:464: UserWarning: X does not have valid feature names, but StandardScaler was fitted with feature names\n",
      "  warnings.warn(\n",
      "/pscratch/sd/b/bleis89/my-desc-stack-weekly/lib/python3.11/site-packages/sklearn/base.py:464: UserWarning: X does not have valid feature names, but StandardScaler was fitted with feature names\n",
      "  warnings.warn(\n",
      "/pscratch/sd/b/bleis89/my-desc-stack-weekly/lib/python3.11/site-packages/sklearn/base.py:464: UserWarning: X does not have valid feature names, but StandardScaler was fitted with feature names\n",
      "  warnings.warn(\n"
     ]
    },
    {
     "name": "stdout",
     "output_type": "stream",
     "text": [
      "year 8\n"
     ]
    },
    {
     "name": "stderr",
     "output_type": "stream",
     "text": [
      "/pscratch/sd/b/bleis89/rubin_sim/rubin_sim/maf/maps/dust_map.py:46: UserWarning: Slicer value of nside 64 different from map value 128, using slicer value\n",
      "  warnings.warn(\n"
     ]
    },
    {
     "name": "stdout",
     "output_type": "stream",
     "text": [
      "year 9\n",
      "year 10\n",
      "year 1\n",
      "year 2\n"
     ]
    },
    {
     "name": "stderr",
     "output_type": "stream",
     "text": [
      "/pscratch/sd/b/bleis89/my-desc-stack-weekly/lib/python3.11/site-packages/sklearn/base.py:464: UserWarning: X does not have valid feature names, but StandardScaler was fitted with feature names\n",
      "  warnings.warn(\n",
      "/pscratch/sd/b/bleis89/my-desc-stack-weekly/lib/python3.11/site-packages/sklearn/base.py:464: UserWarning: X does not have valid feature names, but StandardScaler was fitted with feature names\n",
      "  warnings.warn(\n",
      "/pscratch/sd/b/bleis89/my-desc-stack-weekly/lib/python3.11/site-packages/sklearn/base.py:464: UserWarning: X does not have valid feature names, but StandardScaler was fitted with feature names\n",
      "  warnings.warn(\n"
     ]
    },
    {
     "name": "stdout",
     "output_type": "stream",
     "text": [
      "year 3\n"
     ]
    },
    {
     "name": "stderr",
     "output_type": "stream",
     "text": [
      "/pscratch/sd/b/bleis89/rubin_sim/rubin_sim/maf/maps/dust_map.py:46: UserWarning: Slicer value of nside 64 different from map value 128, using slicer value\n",
      "  warnings.warn(\n",
      "/pscratch/sd/b/bleis89/my-desc-stack-weekly/lib/python3.11/site-packages/sklearn/base.py:464: UserWarning: X does not have valid feature names, but StandardScaler was fitted with feature names\n",
      "  warnings.warn(\n",
      "/pscratch/sd/b/bleis89/my-desc-stack-weekly/lib/python3.11/site-packages/sklearn/base.py:464: UserWarning: X does not have valid feature names, but StandardScaler was fitted with feature names\n",
      "  warnings.warn(\n",
      "/pscratch/sd/b/bleis89/my-desc-stack-weekly/lib/python3.11/site-packages/sklearn/base.py:464: UserWarning: X does not have valid feature names, but StandardScaler was fitted with feature names\n",
      "  warnings.warn(\n"
     ]
    },
    {
     "name": "stdout",
     "output_type": "stream",
     "text": [
      "year 4\n"
     ]
    },
    {
     "name": "stderr",
     "output_type": "stream",
     "text": [
      "/pscratch/sd/b/bleis89/rubin_sim/rubin_sim/maf/maps/dust_map.py:46: UserWarning: Slicer value of nside 64 different from map value 128, using slicer value\n",
      "  warnings.warn(\n"
     ]
    },
    {
     "name": "stdout",
     "output_type": "stream",
     "text": [
      "year 5\n"
     ]
    },
    {
     "name": "stderr",
     "output_type": "stream",
     "text": [
      "/pscratch/sd/b/bleis89/my-desc-stack-weekly/lib/python3.11/site-packages/sklearn/base.py:464: UserWarning: X does not have valid feature names, but StandardScaler was fitted with feature names\n",
      "  warnings.warn(\n",
      "/pscratch/sd/b/bleis89/my-desc-stack-weekly/lib/python3.11/site-packages/sklearn/base.py:464: UserWarning: X does not have valid feature names, but StandardScaler was fitted with feature names\n",
      "  warnings.warn(\n",
      "/pscratch/sd/b/bleis89/my-desc-stack-weekly/lib/python3.11/site-packages/sklearn/base.py:464: UserWarning: X does not have valid feature names, but StandardScaler was fitted with feature names\n",
      "  warnings.warn(\n"
     ]
    },
    {
     "name": "stdout",
     "output_type": "stream",
     "text": [
      "year 6\n"
     ]
    },
    {
     "name": "stderr",
     "output_type": "stream",
     "text": [
      "/pscratch/sd/b/bleis89/rubin_sim/rubin_sim/maf/maps/dust_map.py:46: UserWarning: Slicer value of nside 64 different from map value 128, using slicer value\n",
      "  warnings.warn(\n",
      "/pscratch/sd/b/bleis89/my-desc-stack-weekly/lib/python3.11/site-packages/sklearn/base.py:464: UserWarning: X does not have valid feature names, but StandardScaler was fitted with feature names\n",
      "  warnings.warn(\n",
      "/pscratch/sd/b/bleis89/my-desc-stack-weekly/lib/python3.11/site-packages/sklearn/base.py:464: UserWarning: X does not have valid feature names, but StandardScaler was fitted with feature names\n",
      "  warnings.warn(\n",
      "/pscratch/sd/b/bleis89/my-desc-stack-weekly/lib/python3.11/site-packages/sklearn/base.py:464: UserWarning: X does not have valid feature names, but StandardScaler was fitted with feature names\n",
      "  warnings.warn(\n"
     ]
    },
    {
     "name": "stdout",
     "output_type": "stream",
     "text": [
      "year 7\n"
     ]
    },
    {
     "name": "stderr",
     "output_type": "stream",
     "text": [
      "/pscratch/sd/b/bleis89/rubin_sim/rubin_sim/maf/maps/dust_map.py:46: UserWarning: Slicer value of nside 64 different from map value 128, using slicer value\n",
      "  warnings.warn(\n"
     ]
    },
    {
     "name": "stdout",
     "output_type": "stream",
     "text": [
      "year 8\n"
     ]
    },
    {
     "name": "stderr",
     "output_type": "stream",
     "text": [
      "/pscratch/sd/b/bleis89/my-desc-stack-weekly/lib/python3.11/site-packages/sklearn/base.py:464: UserWarning: X does not have valid feature names, but StandardScaler was fitted with feature names\n",
      "  warnings.warn(\n",
      "/pscratch/sd/b/bleis89/my-desc-stack-weekly/lib/python3.11/site-packages/sklearn/base.py:464: UserWarning: X does not have valid feature names, but StandardScaler was fitted with feature names\n",
      "  warnings.warn(\n",
      "/pscratch/sd/b/bleis89/my-desc-stack-weekly/lib/python3.11/site-packages/sklearn/base.py:464: UserWarning: X does not have valid feature names, but StandardScaler was fitted with feature names\n",
      "  warnings.warn(\n"
     ]
    },
    {
     "name": "stdout",
     "output_type": "stream",
     "text": [
      "year 9\n"
     ]
    },
    {
     "name": "stderr",
     "output_type": "stream",
     "text": [
      "/pscratch/sd/b/bleis89/rubin_sim/rubin_sim/maf/maps/dust_map.py:46: UserWarning: Slicer value of nside 64 different from map value 128, using slicer value\n",
      "  warnings.warn(\n",
      "/pscratch/sd/b/bleis89/my-desc-stack-weekly/lib/python3.11/site-packages/sklearn/base.py:464: UserWarning: X does not have valid feature names, but StandardScaler was fitted with feature names\n",
      "  warnings.warn(\n",
      "/pscratch/sd/b/bleis89/my-desc-stack-weekly/lib/python3.11/site-packages/sklearn/base.py:464: UserWarning: X does not have valid feature names, but StandardScaler was fitted with feature names\n",
      "  warnings.warn(\n",
      "/pscratch/sd/b/bleis89/my-desc-stack-weekly/lib/python3.11/site-packages/sklearn/base.py:464: UserWarning: X does not have valid feature names, but StandardScaler was fitted with feature names\n",
      "  warnings.warn(\n"
     ]
    },
    {
     "name": "stdout",
     "output_type": "stream",
     "text": [
      "year 10\n"
     ]
    },
    {
     "name": "stderr",
     "output_type": "stream",
     "text": [
      "/pscratch/sd/b/bleis89/rubin_sim/rubin_sim/maf/maps/dust_map.py:46: UserWarning: Slicer value of nside 64 different from map value 128, using slicer value\n",
      "  warnings.warn(\n"
     ]
    },
    {
     "name": "stdout",
     "output_type": "stream",
     "text": [
      "year 1\n",
      "year 2\n"
     ]
    },
    {
     "name": "stderr",
     "output_type": "stream",
     "text": [
      "/pscratch/sd/b/bleis89/my-desc-stack-weekly/lib/python3.11/site-packages/sklearn/base.py:464: UserWarning: X does not have valid feature names, but StandardScaler was fitted with feature names\n",
      "  warnings.warn(\n",
      "/pscratch/sd/b/bleis89/my-desc-stack-weekly/lib/python3.11/site-packages/sklearn/base.py:464: UserWarning: X does not have valid feature names, but StandardScaler was fitted with feature names\n",
      "  warnings.warn(\n",
      "/pscratch/sd/b/bleis89/my-desc-stack-weekly/lib/python3.11/site-packages/sklearn/base.py:464: UserWarning: X does not have valid feature names, but StandardScaler was fitted with feature names\n",
      "  warnings.warn(\n"
     ]
    },
    {
     "name": "stdout",
     "output_type": "stream",
     "text": [
      "year 3\n"
     ]
    },
    {
     "name": "stderr",
     "output_type": "stream",
     "text": [
      "/pscratch/sd/b/bleis89/rubin_sim/rubin_sim/maf/maps/dust_map.py:46: UserWarning: Slicer value of nside 64 different from map value 128, using slicer value\n",
      "  warnings.warn(\n",
      "/pscratch/sd/b/bleis89/my-desc-stack-weekly/lib/python3.11/site-packages/sklearn/base.py:464: UserWarning: X does not have valid feature names, but StandardScaler was fitted with feature names\n",
      "  warnings.warn(\n",
      "/pscratch/sd/b/bleis89/my-desc-stack-weekly/lib/python3.11/site-packages/sklearn/base.py:464: UserWarning: X does not have valid feature names, but StandardScaler was fitted with feature names\n",
      "  warnings.warn(\n",
      "/pscratch/sd/b/bleis89/my-desc-stack-weekly/lib/python3.11/site-packages/sklearn/base.py:464: UserWarning: X does not have valid feature names, but StandardScaler was fitted with feature names\n",
      "  warnings.warn(\n"
     ]
    },
    {
     "name": "stdout",
     "output_type": "stream",
     "text": [
      "year 4\n"
     ]
    },
    {
     "name": "stderr",
     "output_type": "stream",
     "text": [
      "/pscratch/sd/b/bleis89/rubin_sim/rubin_sim/maf/maps/dust_map.py:46: UserWarning: Slicer value of nside 64 different from map value 128, using slicer value\n",
      "  warnings.warn(\n",
      "/pscratch/sd/b/bleis89/my-desc-stack-weekly/lib/python3.11/site-packages/sklearn/base.py:464: UserWarning: X does not have valid feature names, but StandardScaler was fitted with feature names\n",
      "  warnings.warn(\n",
      "/pscratch/sd/b/bleis89/my-desc-stack-weekly/lib/python3.11/site-packages/sklearn/base.py:464: UserWarning: X does not have valid feature names, but StandardScaler was fitted with feature names\n",
      "  warnings.warn(\n",
      "/pscratch/sd/b/bleis89/my-desc-stack-weekly/lib/python3.11/site-packages/sklearn/base.py:464: UserWarning: X does not have valid feature names, but StandardScaler was fitted with feature names\n",
      "  warnings.warn(\n"
     ]
    },
    {
     "name": "stdout",
     "output_type": "stream",
     "text": [
      "year 5\n"
     ]
    },
    {
     "name": "stderr",
     "output_type": "stream",
     "text": [
      "/pscratch/sd/b/bleis89/rubin_sim/rubin_sim/maf/maps/dust_map.py:46: UserWarning: Slicer value of nside 64 different from map value 128, using slicer value\n",
      "  warnings.warn(\n",
      "/pscratch/sd/b/bleis89/my-desc-stack-weekly/lib/python3.11/site-packages/sklearn/base.py:464: UserWarning: X does not have valid feature names, but StandardScaler was fitted with feature names\n",
      "  warnings.warn(\n",
      "/pscratch/sd/b/bleis89/my-desc-stack-weekly/lib/python3.11/site-packages/sklearn/base.py:464: UserWarning: X does not have valid feature names, but StandardScaler was fitted with feature names\n",
      "  warnings.warn(\n",
      "/pscratch/sd/b/bleis89/my-desc-stack-weekly/lib/python3.11/site-packages/sklearn/base.py:464: UserWarning: X does not have valid feature names, but StandardScaler was fitted with feature names\n",
      "  warnings.warn(\n"
     ]
    },
    {
     "name": "stdout",
     "output_type": "stream",
     "text": [
      "year 6\n"
     ]
    },
    {
     "name": "stderr",
     "output_type": "stream",
     "text": [
      "/pscratch/sd/b/bleis89/rubin_sim/rubin_sim/maf/maps/dust_map.py:46: UserWarning: Slicer value of nside 64 different from map value 128, using slicer value\n",
      "  warnings.warn(\n",
      "/pscratch/sd/b/bleis89/my-desc-stack-weekly/lib/python3.11/site-packages/sklearn/base.py:464: UserWarning: X does not have valid feature names, but StandardScaler was fitted with feature names\n",
      "  warnings.warn(\n",
      "/pscratch/sd/b/bleis89/my-desc-stack-weekly/lib/python3.11/site-packages/sklearn/base.py:464: UserWarning: X does not have valid feature names, but StandardScaler was fitted with feature names\n",
      "  warnings.warn(\n",
      "/pscratch/sd/b/bleis89/my-desc-stack-weekly/lib/python3.11/site-packages/sklearn/base.py:464: UserWarning: X does not have valid feature names, but StandardScaler was fitted with feature names\n",
      "  warnings.warn(\n"
     ]
    },
    {
     "name": "stdout",
     "output_type": "stream",
     "text": [
      "year 7\n"
     ]
    },
    {
     "name": "stderr",
     "output_type": "stream",
     "text": [
      "/pscratch/sd/b/bleis89/rubin_sim/rubin_sim/maf/maps/dust_map.py:46: UserWarning: Slicer value of nside 64 different from map value 128, using slicer value\n",
      "  warnings.warn(\n",
      "/pscratch/sd/b/bleis89/my-desc-stack-weekly/lib/python3.11/site-packages/sklearn/base.py:464: UserWarning: X does not have valid feature names, but StandardScaler was fitted with feature names\n",
      "  warnings.warn(\n",
      "/pscratch/sd/b/bleis89/my-desc-stack-weekly/lib/python3.11/site-packages/sklearn/base.py:464: UserWarning: X does not have valid feature names, but StandardScaler was fitted with feature names\n",
      "  warnings.warn(\n",
      "/pscratch/sd/b/bleis89/my-desc-stack-weekly/lib/python3.11/site-packages/sklearn/base.py:464: UserWarning: X does not have valid feature names, but StandardScaler was fitted with feature names\n",
      "  warnings.warn(\n"
     ]
    },
    {
     "name": "stdout",
     "output_type": "stream",
     "text": [
      "year 8\n"
     ]
    },
    {
     "name": "stderr",
     "output_type": "stream",
     "text": [
      "/pscratch/sd/b/bleis89/rubin_sim/rubin_sim/maf/maps/dust_map.py:46: UserWarning: Slicer value of nside 64 different from map value 128, using slicer value\n",
      "  warnings.warn(\n",
      "/pscratch/sd/b/bleis89/my-desc-stack-weekly/lib/python3.11/site-packages/sklearn/base.py:464: UserWarning: X does not have valid feature names, but StandardScaler was fitted with feature names\n",
      "  warnings.warn(\n",
      "/pscratch/sd/b/bleis89/my-desc-stack-weekly/lib/python3.11/site-packages/sklearn/base.py:464: UserWarning: X does not have valid feature names, but StandardScaler was fitted with feature names\n",
      "  warnings.warn(\n",
      "/pscratch/sd/b/bleis89/my-desc-stack-weekly/lib/python3.11/site-packages/sklearn/base.py:464: UserWarning: X does not have valid feature names, but StandardScaler was fitted with feature names\n",
      "  warnings.warn(\n"
     ]
    },
    {
     "name": "stdout",
     "output_type": "stream",
     "text": [
      "year 9\n"
     ]
    },
    {
     "name": "stderr",
     "output_type": "stream",
     "text": [
      "/pscratch/sd/b/bleis89/rubin_sim/rubin_sim/maf/maps/dust_map.py:46: UserWarning: Slicer value of nside 64 different from map value 128, using slicer value\n",
      "  warnings.warn(\n",
      "/pscratch/sd/b/bleis89/my-desc-stack-weekly/lib/python3.11/site-packages/sklearn/base.py:464: UserWarning: X does not have valid feature names, but StandardScaler was fitted with feature names\n",
      "  warnings.warn(\n",
      "/pscratch/sd/b/bleis89/my-desc-stack-weekly/lib/python3.11/site-packages/sklearn/base.py:464: UserWarning: X does not have valid feature names, but StandardScaler was fitted with feature names\n",
      "  warnings.warn(\n",
      "/pscratch/sd/b/bleis89/my-desc-stack-weekly/lib/python3.11/site-packages/sklearn/base.py:464: UserWarning: X does not have valid feature names, but StandardScaler was fitted with feature names\n",
      "  warnings.warn(\n"
     ]
    },
    {
     "name": "stdout",
     "output_type": "stream",
     "text": [
      "year 10\n"
     ]
    },
    {
     "name": "stderr",
     "output_type": "stream",
     "text": [
      "/pscratch/sd/b/bleis89/rubin_sim/rubin_sim/maf/maps/dust_map.py:46: UserWarning: Slicer value of nside 64 different from map value 128, using slicer value\n",
      "  warnings.warn(\n",
      "/pscratch/sd/b/bleis89/my-desc-stack-weekly/lib/python3.11/site-packages/sklearn/base.py:464: UserWarning: X does not have valid feature names, but StandardScaler was fitted with feature names\n",
      "  warnings.warn(\n",
      "/pscratch/sd/b/bleis89/my-desc-stack-weekly/lib/python3.11/site-packages/sklearn/base.py:464: UserWarning: X does not have valid feature names, but StandardScaler was fitted with feature names\n",
      "  warnings.warn(\n",
      "/pscratch/sd/b/bleis89/my-desc-stack-weekly/lib/python3.11/site-packages/sklearn/base.py:464: UserWarning: X does not have valid feature names, but StandardScaler was fitted with feature names\n",
      "  warnings.warn(\n"
     ]
    }
   ],
   "source": [
    "from rubin_sim.maf.metrics.cosmology_summary_metrics import UniformAreaFoMFractionMetric\n",
    "from rubin_sim.maf.metrics.uniformity_metrics import NestedRIZExptimeExgalM5Metric\n",
    "from rubin_sim.maf.metrics.weak_lensing_systematics_metric import RIZDetectionCoaddExposureTime, ExgalM5WithCuts\n",
    "from rubin_sim.maf.metrics.exgal_m5 import ExgalM5\n",
    "\n",
    "nside = 64\n",
    "\n",
    "sim_list = [\n",
    "   '/pscratch/sd/r/rhlozek/rubin_sim_data/sim_baseline/baseline_v3.3_10yrs.db',\n",
    "    '/pscratch/sd/r/rhlozek/rubin_sim_data/noroll/noroll_v3.3_10yrs.db',\n",
    "       '/pscratch/sd/b/beckermr/v3.4_sims_rubin/roll_uniform_mjdp0_v3.4_10yrs.db',\n",
    "       '/pscratch/sd/b/beckermr/v3.4_sims_rubin/baseline_v3.4_10yrs.db'\n",
    "           ]\n",
    "name_list = [splitext(basename(sim))[0] for sim in sim_list]\n",
    "\n",
    "years = range(1, 11) \n",
    "surveyAreas = SkyAreaGenerator(nside=nside)\n",
    "map_footprints, map_labels = surveyAreas.return_maps()\n",
    "slicer = maf.HealpixSubsetSlicer(\n",
    "    nside=nside, \n",
    "    hpid=np.where(map_labels == \"lowdust\")[0],#hpid=np.arange(hp.nside2npix(nside)), \n",
    "    use_cache=False)\n",
    "\n",
    "results_allruns= {}\n",
    "for opsim_fname, run_name in zip(sim_list, name_list):\n",
    "\n",
    "    results_allyears = np.zeros((len(years), ))\n",
    "    # loop over years \n",
    "    for iy, year in enumerate(years):\n",
    "        print('year', year)\n",
    "\n",
    "        days = year*365.25\n",
    "        constraint_str = 'note not like \"DD%\" and night <= XX and note not like \"twilight_near_sun\" '\n",
    "        constraint_str = constraint_str.replace('XX','%d'%days)\n",
    "\n",
    "        \n",
    "        metric = NestedRIZExptimeExgalM5Metric(\n",
    "            depth_cut=25.0 # what depth cuts to apply year after year?\n",
    "        ) \n",
    "        summary_metrics = [UniformAreaFoMFractionMetric(\n",
    "            year,\n",
    "            nside=nside,\n",
    "            verbose=False, \n",
    "            metric_name='FoMRatio'\n",
    "        )]\n",
    "        depth_map_bundles = [maf.MetricBundle(\n",
    "            metric=metric,\n",
    "            slicer=slicer,\n",
    "            constraint=constraint_str,\n",
    "            run_name=run_name,\n",
    "            summary_metrics=summary_metrics\n",
    "        )]\n",
    "        bd = maf.metricBundles.make_bundles_dict_from_list(depth_map_bundles)\n",
    "        bgroup = maf.MetricBundleGroup(bd, opsim_fname)\n",
    "        bgroup.run_all()\n",
    "        results_allyears[iy] = bd[list(bd.keys())[0]].summary_values['FoMRatio']\n",
    "        \n",
    "    results_allruns[run_name] = results_allyears\n",
    "\n",
    "    "
   ]
  },
  {
   "cell_type": "code",
   "execution_count": 17,
   "metadata": {
    "tags": []
   },
   "outputs": [
    {
     "data": {
      "text/plain": [
       "Text(0, 0.5, 'FOM ratio')"
      ]
     },
     "execution_count": 17,
     "metadata": {},
     "output_type": "execute_result"
    },
    {
     "data": {
      "image/png": "[encoded data removed]",
      "text/plain": [
       "<Figure size 700x400 with 1 Axes>"
      ]
     },
     "metadata": {},
     "output_type": "display_data"
    }
   ],
   "source": [
    "fig, axs = plt.subplots(1, 1, figsize=(7, 4), sharex=True)\n",
    "axs = [axs]\n",
    "colors = ['orange', 'blue', 'black', 'red']\n",
    "for i, run_name in enumerate(results_allruns.keys()):\n",
    "    axs[0].plot(years, results_allruns[run_name], label=run_name, marker='o', color=colors[i])\n",
    "axs[0].legend()\n",
    "\n",
    "axs[0].set_xlabel('Years')\n",
    "axs[0].set_ylabel('FOM ratio')"
   ]
  },
  {
   "cell_type": "markdown",
   "metadata": {},
   "source": [
    "# Demo of meanz metric"
   ]
  },
  {
   "cell_type": "code",
   "execution_count": null,
   "metadata": {},
   "outputs": [],
   "source": [
    "from rubin_sim.maf.metrics.cosmology_summary_metrics import MultibandMeanzBiasMetric\n",
    "from rubin_sim.maf.metrics.uniformity_metrics import MultibandExgalM5\n",
    "from rubin_sim.maf.metrics.weak_lensing_systematics_metric import RIZDetectionCoaddExposureTime, ExgalM5WithCuts\n",
    "from rubin_sim.maf.metrics.exgal_m5 import ExgalM5\n",
    "\n",
    "nside = 32\n",
    "\n",
    "sim_list = [\n",
    "    '/pscratch/sd/r/rhlozek/rubin_sim_data/sim_baseline/baseline_v3.3_10yrs.db',\n",
    "  #     '/pscratch/sd/r/rhlozek/rubin_sim_data/noroll/noroll_v3.3_10yrs.db',\n",
    "    #   '/pscratch/sd/b/beckermr/v3.4_sims_rubin/roll_uniform_mjdp0_v3.4_10yrs.db',\n",
    "    #   '/pscratch/sd/b/beckermr/v3.4_sims_rubin/baseline_v3.4_10yrs.db'\n",
    "           ]\n",
    "name_list = [splitext(basename(sim))[0] for sim in sim_list]\n",
    "\n",
    "years = range(1, 11) \n",
    "surveyAreas = SkyAreaGenerator(nside=nside)\n",
    "map_footprints, map_labels = surveyAreas.return_maps()\n",
    "slicer = maf.HealpixSubsetSlicer(\n",
    "    nside=nside, \n",
    "    hpid=np.where(map_labels == \"lowdust\")[0],#hpid=np.arange(hp.nside2npix(nside)), \n",
    "    use_cache=False)\n",
    "\n",
    "results_allruns= {}\n",
    "for opsim_fname, run_name in zip(sim_list, name_list):\n",
    "\n",
    "    results_allyears = np.zeros((len(years), ))\n",
    "    # loop over years \n",
    "    for iy, year in enumerate(years):\n",
    "        print('year', year)\n",
    "\n",
    "        days = year*365.25\n",
    "        constraint_str = 'note not like \"DD%\" and night <= XX and note not like \"twilight_near_sun\" '\n",
    "        constraint_str = constraint_str.replace('XX','%d'%days)\n",
    "\n",
    "        \n",
    "        metric = MultibandExgalM5() \n",
    "        summary_metrics = [MultibandMeanzBiasMetric(year=year, \n",
    "                                                    metric_name='MultibandMeanzBias')]\n",
    "        depth_map_bundles = [maf.MetricBundle(\n",
    "            metric=metric,\n",
    "            slicer=slicer,\n",
    "            constraint=constraint_str,\n",
    "            run_name=run_name,\n",
    "            summary_metrics=summary_metrics\n",
    "        )]\n",
    "        bd = maf.metricBundles.make_bundles_dict_from_list(depth_map_bundles)\n",
    "        bgroup = maf.MetricBundleGroup(bd, opsim_fname)\n",
    "        bgroup.run_all()\n",
    "        results_allyears[iy] = bd[list(bd.keys())[0]].summary_values['MultibandMeanzBias']\n",
    "        \n",
    "    results_allruns[run_name] = results_allyears\n",
    "\n",
    "    "
   ]
  }
 ],
 "metadata": {
  "kernelspec": {
   "display_name": "Python 3 (ipykernel)",
   "language": "python",
   "name": "python3"
  },
  "language_info": {
   "codemirror_mode": {
    "name": "ipython",
    "version": 3
   },
   "file_extension": ".py",
   "mimetype": "text/x-python",
   "name": "python",
   "nbconvert_exporter": "python",
   "pygments_lexer": "ipython3",
   "version": "3.11.6"
  }
 },
 "nbformat": 4,
 "nbformat_minor": 4
}
